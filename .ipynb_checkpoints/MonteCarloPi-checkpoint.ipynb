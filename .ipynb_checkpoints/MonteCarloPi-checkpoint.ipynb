{
 "cells": [
  {
   "cell_type": "code",
   "execution_count": 24,
   "metadata": {},
   "outputs": [
    {
     "name": "stdout",
     "output_type": "stream",
     "text": [
      "3.13764\n"
     ]
    }
   ],
   "source": [
    "import random\n",
    "\n",
    "\n",
    "''' This function uses Monte Carlo Integration to calculate the value of pi \n",
    "    We use a circle of radius 1 with center at the origin (0,0) fit inside \n",
    "    a square to calculate the value of pi. If a points are drawn at random \n",
    "    inside a the square, it will cover the entire square and the ratio between \n",
    "    the area of the square and the area of the circle in this setting gets \n",
    "    us the value of pi. \n",
    "    \n",
    "    Math:\n",
    "    radius = 1\n",
    "    length of a side of the squre = 1+1 = 2\n",
    "    Area of circle = pi * r^2 = pi * (1*1) = 1\n",
    "    Area of the square = 2 * 2 = 4\n",
    "    Ratio of Area of circle : Ratio of area of square = pi : 4\n",
    "    If the dots were randomly filling the square\n",
    "    pi = (4*number of dots in circle/ number of dots in the square)\n",
    "    To find the number of dots that fall within the circle we use the\n",
    "    formula for a unit circle with it's center at the origin \n",
    "    r^2 = x^2 +y^2\n",
    "    If r^2 <= 1, the random point is within the circle'''\n",
    "\n",
    "\n",
    "def monteCarloPi (no_of_iterations):\n",
    "    in_circle = 0\n",
    "    for n in range(no_of_iterations):\n",
    "        x = random.random()\n",
    "        y = random.random()\n",
    "        r_sq = (x*x) + (y*y)\n",
    "        if r_sq <= 1 :\n",
    "            in_circle = in_circle +1\n",
    "            \n",
    "    in_square = no_of_iterations            \n",
    "    pi_value = (in_circle*4)/in_square\n",
    "    print (pi_value)\n",
    "\n",
    "monteCarloPi(100000)"
   ]
  },
  {
   "cell_type": "code",
   "execution_count": 25,
   "metadata": {},
   "outputs": [
    {
     "name": "stdout",
     "output_type": "stream",
     "text": [
      "1\n",
      "2\n",
      "23\n",
      "0\n",
      "2\n",
      "2\n",
      "4\n",
      "142\n"
     ]
    }
   ],
   "source": [
    "l = [1,2,23,0,2,2,4,142]\n",
    "\n",
    "for x in l:\n",
    "    print(x)"
   ]
  },
  {
   "cell_type": "code",
   "execution_count": 43,
   "metadata": {},
   "outputs": [
    {
     "name": "stdout",
     "output_type": "stream",
     "text": [
      "[-4, -4, -2, -2]\n",
      "-3\n"
     ]
    }
   ],
   "source": [
    "def centered_average(nums):\n",
    "  a = sorted(nums)\n",
    "  a = a[1:len(a)-1]\n",
    "  print (a)\n",
    "  return round(sum(a)/len(a))\n",
    "lst =[-10, -4, -2, -4, -2, 0]\n",
    "print(centered_average(lst))"
   ]
  },
  {
   "cell_type": "code",
   "execution_count": 46,
   "metadata": {},
   "outputs": [
    {
     "name": "stdout",
     "output_type": "stream",
     "text": [
      "4\n"
     ]
    }
   ],
   "source": [
    "def make_bricks(small, big, goal):\n",
    "      if small+(5*big) < goal :\n",
    "        return False\n",
    "      elif goal %5 > small:\n",
    "        return False\n",
    "      else:\n",
    "        return True\n",
    "    \n",
    "print (4%5)"
   ]
  },
  {
   "cell_type": "code",
   "execution_count": null,
   "metadata": {
    "collapsed": true
   },
   "outputs": [],
   "source": []
  }
 ],
 "metadata": {
  "kernelspec": {
   "display_name": "Python 3",
   "language": "python",
   "name": "python3"
  },
  "language_info": {
   "codemirror_mode": {
    "name": "ipython",
    "version": 3
   },
   "file_extension": ".py",
   "mimetype": "text/x-python",
   "name": "python",
   "nbconvert_exporter": "python",
   "pygments_lexer": "ipython3",
   "version": "3.6.1"
  }
 },
 "nbformat": 4,
 "nbformat_minor": 2
}
