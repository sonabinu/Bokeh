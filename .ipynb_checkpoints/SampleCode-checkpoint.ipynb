{
 "cells": [
  {
   "cell_type": "code",
   "execution_count": 5,
   "metadata": {},
   "outputs": [
    {
     "name": "stdout",
     "output_type": "stream",
     "text": [
      "Duplicate charcters exist\n"
     ]
    }
   ],
   "source": [
    "''' Check to see if a string has all unique characters'''\n",
    "\n",
    "def UnqChar(stringvalue):\n",
    "    if len(stringvalue) == len(set(stringvalue)):\n",
    "        print ('All Unique characters')\n",
    "    else:\n",
    "        print ('Duplicate charcters exist')\n",
    "        \n",
    "\n",
    "UnqChar('Namitha')\n",
    "    "
   ]
  },
  {
   "cell_type": "code",
   "execution_count": 21,
   "metadata": {},
   "outputs": [
    {
     "name": "stdout",
     "output_type": "stream",
     "text": [
      "mary and martha do not match\n",
      "margaret and gramtear are premutations\n"
     ]
    }
   ],
   "source": [
    "''' Given two strings determine if one is a permuatation of the other'''\n",
    "\n",
    "def permutCheck(a,b):\n",
    "    aa = list(a)\n",
    "    bb = list(b)\n",
    "    if sorted(aa) == sorted(bb):\n",
    "        print(a +' and '+b +' are premutations')\n",
    "    else:\n",
    "        print (a+' and '+b +' do not match' )\n",
    "    \n",
    "permutCheck('mary','martha')\n",
    "\n",
    "permutCheck('margaret','gramtear')"
   ]
  },
  {
   "cell_type": "code",
   "execution_count": 35,
   "metadata": {},
   "outputs": [
    {
     "name": "stdout",
     "output_type": "stream",
     "text": [
      "this%20old%20man\n",
      "This%20old%20Man\n"
     ]
    }
   ],
   "source": [
    "''' Replace all spaces in a string with %20'''\n",
    "\n",
    "import re\n",
    "\n",
    "#using space\n",
    "\n",
    "def replaceSpace(stringval):\n",
    "    newString = stringval.replace(' ', '%20')\n",
    "    return newString\n",
    "\n",
    "print(replaceSpace('this old man'))\n",
    "\n",
    "#using regex\n",
    "\n",
    "def repSpace(stringVal):\n",
    "    newString = re.sub( r'\\s+', '%20', stringVal)\n",
    "    return newString\n",
    "\n",
    "print(repSpace('This old Man'))\n",
    "    "
   ]
  },
  {
   "cell_type": "code",
   "execution_count": 50,
   "metadata": {},
   "outputs": [
    {
     "name": "stdout",
     "output_type": "stream",
     "text": [
      "Malayalamr is not a palindrome\n"
     ]
    }
   ],
   "source": [
    "'''Check if word is a palindrome'''\n",
    "\n",
    "def isPalindrome(givenWord):\n",
    "    list1 = list(givenWord.lower())\n",
    "    newlist =[]\n",
    "    listlen = len(list1)\n",
    "    for val in range(listlen):\n",
    "        v = list1[listlen-(val)-1]\n",
    "        newlist.append(v)\n",
    "    if newlist == list1:\n",
    "        return (givenWord +' is a palindrome')\n",
    "    else:\n",
    "        return (givenWord +' is not a palindrome')\n",
    " \n",
    "print( isPalindrome('Malayalamr'))"
   ]
  },
  {
   "cell_type": "code",
   "execution_count": 59,
   "metadata": {},
   "outputs": [
    {
     "name": "stdout",
     "output_type": "stream",
     "text": [
      "2\n"
     ]
    }
   ],
   "source": [
    "'''Check if  the given word can be altered to the base word with any of this type of edits  -\n",
    "   Insert, remove, replace a character'''\n",
    "\n",
    "def singleEdit(baseword, givenword):\n",
    "    bl = list(baseword)\n",
    "    gl = list(givenword)\n",
    "    n=0\n",
    "    if list(baseword)== list(givenword):\n",
    "        print('words are the same')\n",
    "    else:\n",
    "        for i in range(len(gl)):\n",
    "            if gl[i-1] != bl[i-1]:\n",
    "                n +=1\n",
    "    if n == 1 :\n",
    "        print ('only one edit')\n",
    "    print(n)    \n",
    "            \n",
    "        \n",
    "singleEdit('mane','mae')"
   ]
  },
  {
   "cell_type": "code",
   "execution_count": null,
   "metadata": {
    "collapsed": true
   },
   "outputs": [],
   "source": []
  },
  {
   "cell_type": "code",
   "execution_count": null,
   "metadata": {
    "collapsed": true
   },
   "outputs": [],
   "source": []
  },
  {
   "cell_type": "code",
   "execution_count": null,
   "metadata": {
    "collapsed": true
   },
   "outputs": [],
   "source": []
  }
 ],
 "metadata": {
  "kernelspec": {
   "display_name": "Python 3",
   "language": "python",
   "name": "python3"
  },
  "language_info": {
   "codemirror_mode": {
    "name": "ipython",
    "version": 3
   },
   "file_extension": ".py",
   "mimetype": "text/x-python",
   "name": "python",
   "nbconvert_exporter": "python",
   "pygments_lexer": "ipython3",
   "version": "3.6.1"
  }
 },
 "nbformat": 4,
 "nbformat_minor": 2
}
