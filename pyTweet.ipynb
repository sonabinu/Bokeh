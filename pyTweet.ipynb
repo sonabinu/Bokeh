{
 "cells": [
  {
   "cell_type": "code",
   "execution_count": 7,
   "metadata": {},
   "outputs": [
    {
     "name": "stdout",
     "output_type": "stream",
     "text": [
      "Celebrating this old soul's 13th birthweek #beachlife… https://t.co/PcWCazIXSr\n",
      "I have found that if you love life, life will love you back.\n",
      "-… https://t.co/ZyNB0JsJ9R\n",
      "What questions do you have around #MultiCloud? Share them here and tune in for our panel of experts: https://t.co/JOZwfMHvqj\n",
      "RT @tcollen: Did I just hear @jennapederson on the radio talking about @HackTheGap ?!!?\n",
      "This is completely depressing. https://t.co/7fgD8gkHi4\n",
      "RT @atlasobscura: In 2001, there were just 16 pygmy rabbits in all of Washington state. The team saved 32 from this fire https://t.co/OwGpD…\n",
      "Minnesota's Crypto Cluster Is Sprouting: https://t.co/HgwVz5gapL\n",
      "Infographic: Are organizations prepared for #GDPR? https://t.co/KAkTVXZpkt #DataReg https://t.co/pxgOcqeVFM\n",
      "MN Agtech Venture @ConservisCorp Reaps ~$9.5m Funding &amp; New CEO: https://t.co/nU7bhM0tsM\n",
      "Solutions Architect @queueit in Minneapolis - on the board: https://t.co/v1kHcIxaRT\n",
      "\n",
      "View all: https://t.co/bse05JqiEG\n"
     ]
    }
   ],
   "source": [
    "import tweepy\n",
    "from tweepy import OAuthHandler\n",
    " \n",
    "consumer_key = 'gwp9DTNedykU512DE5N3awRWn'\n",
    "consumer_secret = 'urT7hcX2ZhXxXLJ21jta8542dRPirhEzIr1XQcKt8VFBU99Mo1'\n",
    "access_token = '24591212-KysISv2mwdi7uMEoerrPnAtKUyNpS2Vl8QztRFK2N'\n",
    "access_secret = 'nNXP7llQBzietqcjBQaPp9LuDXqsTVyeAGlp4FUBaLreR'\n",
    " \n",
    "auth = OAuthHandler(consumer_key, consumer_secret)\n",
    "auth.set_access_token(access_token, access_secret)\n",
    " \n",
    "api = tweepy.API(auth)\n",
    "\n",
    "\n",
    "for status in tweepy.Cursor(api.home_timeline).items(10):\n",
    "    # Process a single status\n",
    "    print(status.text)\n"
   ]
  },
  {
   "cell_type": "code",
   "execution_count": null,
   "metadata": {
    "collapsed": true
   },
   "outputs": [],
   "source": []
  }
 ],
 "metadata": {
  "kernelspec": {
   "display_name": "Python 3",
   "language": "python",
   "name": "python3"
  },
  "language_info": {
   "codemirror_mode": {
    "name": "ipython",
    "version": 3
   },
   "file_extension": ".py",
   "mimetype": "text/x-python",
   "name": "python",
   "nbconvert_exporter": "python",
   "pygments_lexer": "ipython3",
   "version": "3.6.1"
  }
 },
 "nbformat": 4,
 "nbformat_minor": 2
}
